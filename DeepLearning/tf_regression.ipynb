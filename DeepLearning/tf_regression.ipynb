{
 "cells": [
  {
   "cell_type": "code",
   "execution_count": 22,
   "metadata": {},
   "outputs": [],
   "source": [
    "import tensorflow as tf\n",
    "from sklearn.datasets import fetch_california_housing\n",
    "from sklearn.model_selection import train_test_split\n",
    "from sklearn.preprocessing import StandardScaler\n",
    "from tensorflow.keras.layers import Dense, Input, Concatenate\n",
    "from tensorflow.keras.models import Sequential, Model\n",
    "import numpy as np\n",
    "import matplotlib.pyplot as plt"
   ]
  },
  {
   "cell_type": "code",
   "execution_count": 2,
   "metadata": {},
   "outputs": [
    {
     "name": "stderr",
     "output_type": "stream",
     "text": [
      "Downloading Cal. housing from https://ndownloader.figshare.com/files/5976036 to C:\\Users\\rrsoo\\scikit_learn_data\n"
     ]
    },
    {
     "data": {
      "text/plain": [
       "StandardScaler(copy=True, with_mean=True, with_std=True)"
      ]
     },
     "execution_count": 2,
     "metadata": {},
     "output_type": "execute_result"
    }
   ],
   "source": [
    "housing = fetch_california_housing()\n",
    "X_train_full, X_test, y_train_full, y_test = train_test_split(housing.data, housing.target)\n",
    "X_train, X_val, y_train, y_val = train_test_split(X_train_full, y_train_full)\n",
    "\n",
    "scaler = StandardScaler()\n",
    "scaler.fit_transform(X_train)\n",
    "scaler.fit(X_val)\n",
    "scaler.fit(X_test)"
   ]
  },
  {
   "cell_type": "code",
   "execution_count": 27,
   "metadata": {},
   "outputs": [
    {
     "name": "stdout",
     "output_type": "stream",
     "text": [
      "Train on 11610 samples, validate on 3870 samples\n",
      "Epoch 1/20\n",
      "11610/11610 [==============================] - 1s 59us/sample - loss: 6177.5174 - accuracy: 0.0016 - val_loss: 6.0881 - val_accuracy: 0.0036\n",
      "Epoch 2/20\n",
      "11610/11610 [==============================] - 0s 38us/sample - loss: 122.8112 - accuracy: 0.0016 - val_loss: 2.6343 - val_accuracy: 0.0047\n",
      "Epoch 3/20\n",
      "11610/11610 [==============================] - 0s 36us/sample - loss: 98.7342 - accuracy: 0.0019 - val_loss: 958.3011 - val_accuracy: 0.0000e+00\n",
      "Epoch 4/20\n",
      "11610/11610 [==============================] - 0s 35us/sample - loss: 99.8300 - accuracy: 0.0016 - val_loss: 2.4311 - val_accuracy: 0.0047\n",
      "Epoch 5/20\n",
      "11610/11610 [==============================] - 0s 34us/sample - loss: 82.9441 - accuracy: 0.0017 - val_loss: 27.5895 - val_accuracy: 0.0047\n",
      "Epoch 6/20\n",
      "11610/11610 [==============================] - 0s 35us/sample - loss: 83.8523 - accuracy: 0.0017 - val_loss: 58.6323 - val_accuracy: 0.0047\n",
      "Epoch 7/20\n",
      "11610/11610 [==============================] - 0s 35us/sample - loss: 66.3412 - accuracy: 0.0022 - val_loss: 2.8284 - val_accuracy: 0.0047\n",
      "Epoch 8/20\n",
      "11610/11610 [==============================] - 0s 35us/sample - loss: 58.8994 - accuracy: 0.0017 - val_loss: 1.8123 - val_accuracy: 0.0044\n",
      "Epoch 9/20\n",
      "11610/11610 [==============================] - 0s 35us/sample - loss: 51.7101 - accuracy: 0.0021 - val_loss: 751.3302 - val_accuracy: 0.0047\n",
      "Epoch 10/20\n",
      "11610/11610 [==============================] - 0s 38us/sample - loss: 47.0805 - accuracy: 0.0017 - val_loss: 1.6424 - val_accuracy: 0.0047\n",
      "Epoch 11/20\n",
      "11610/11610 [==============================] - 0s 40us/sample - loss: 45.5690 - accuracy: 0.0016 - val_loss: 20.1164 - val_accuracy: 0.0047\n",
      "Epoch 12/20\n",
      "11610/11610 [==============================] - 0s 36us/sample - loss: 40.9152 - accuracy: 0.0019 - val_loss: 48.5504 - val_accuracy: 0.0047\n",
      "Epoch 13/20\n",
      "11610/11610 [==============================] - 0s 39us/sample - loss: 37.7072 - accuracy: 0.0018 - val_loss: 1.0397 - val_accuracy: 0.0047\n",
      "Epoch 14/20\n",
      "11610/11610 [==============================] - 0s 38us/sample - loss: 34.7706 - accuracy: 0.0019 - val_loss: 1.0237 - val_accuracy: 0.0047\n",
      "Epoch 15/20\n",
      "11610/11610 [==============================] - 0s 37us/sample - loss: 30.8575 - accuracy: 0.0020 - val_loss: 120.3252 - val_accuracy: 0.0047\n",
      "Epoch 16/20\n",
      "11610/11610 [==============================] - 0s 36us/sample - loss: 31.7008 - accuracy: 0.0016 - val_loss: 1.1556 - val_accuracy: 0.0047\n",
      "Epoch 17/20\n",
      "11610/11610 [==============================] - 0s 39us/sample - loss: 26.5583 - accuracy: 0.0019 - val_loss: 7.0620 - val_accuracy: 0.0013\n",
      "Epoch 18/20\n",
      "11610/11610 [==============================] - 0s 35us/sample - loss: 26.1649 - accuracy: 0.0018 - val_loss: 1.4591 - val_accuracy: 0.0047\n",
      "Epoch 19/20\n",
      "11610/11610 [==============================] - 0s 40us/sample - loss: 26.6284 - accuracy: 0.0020 - val_loss: 1.8132 - val_accuracy: 0.0047\n",
      "Epoch 20/20\n",
      "11610/11610 [==============================] - 0s 38us/sample - loss: 24.6972 - accuracy: 0.0017 - val_loss: 0.8659 - val_accuracy: 0.0047\n"
     ]
    },
    {
     "data": {
      "text/plain": [
       "<tensorflow.python.keras.callbacks.History at 0x180fef207c8>"
      ]
     },
     "execution_count": 27,
     "metadata": {},
     "output_type": "execute_result"
    }
   ],
   "source": [
    "#Sequential model example\n",
    "model = Sequential([\n",
    "    Dense(30, activation = tf.keras.activations.relu, input_shape = (X_train.shape[1],)),\n",
    "    Dense(30, activation = tf.keras.activations.relu),\n",
    "    Dense(1)\n",
    "])\n",
    "\n",
    "model.compile(optimizer = tf.keras.optimizers.Adam(lr = 1e-3),\n",
    "              loss = 'mse', metrics = ['accuracy'])\n",
    "\n",
    "model.fit(X_train, y_train, batch_size = 32, epochs = 20, validation_data = (X_val, y_val))"
   ]
  },
  {
   "cell_type": "code",
   "execution_count": 23,
   "metadata": {},
   "outputs": [
    {
     "name": "stdout",
     "output_type": "stream",
     "text": [
      "Train on 11610 samples, validate on 3870 samples\n",
      "Epoch 1/20\n",
      "11610/11610 [==============================] - 1s 57us/sample - loss: 26137.3061 - accuracy: 0.0016 - val_loss: 74.9257 - val_accuracy: 0.0047\n",
      "Epoch 2/20\n",
      "11610/11610 [==============================] - 0s 37us/sample - loss: 36.4390 - accuracy: 0.0016 - val_loss: 9.8140 - val_accuracy: 0.0044\n",
      "Epoch 3/20\n",
      "11610/11610 [==============================] - 0s 37us/sample - loss: 24.6250 - accuracy: 0.0020 - val_loss: 8.7398 - val_accuracy: 0.0036\n",
      "Epoch 4/20\n",
      "11610/11610 [==============================] - 0s 37us/sample - loss: 16.0241 - accuracy: 0.0016 - val_loss: 5.6472 - val_accuracy: 0.0047\n",
      "Epoch 5/20\n",
      "11610/11610 [==============================] - 0s 37us/sample - loss: 8.8993 - accuracy: 0.0017 - val_loss: 6.8248 - val_accuracy: 0.0047\n",
      "Epoch 6/20\n",
      "11610/11610 [==============================] - 0s 37us/sample - loss: 3.8310 - accuracy: 0.0018 - val_loss: 1.7178 - val_accuracy: 0.0047\n",
      "Epoch 7/20\n",
      "11610/11610 [==============================] - 0s 37us/sample - loss: 1.6631 - accuracy: 0.0021 - val_loss: 1.1186 - val_accuracy: 0.0041\n",
      "Epoch 8/20\n",
      "11610/11610 [==============================] - 0s 37us/sample - loss: 1.1384 - accuracy: 0.0021 - val_loss: 13.3153 - val_accuracy: 0.0013\n",
      "Epoch 9/20\n",
      "11610/11610 [==============================] - 0s 40us/sample - loss: 3.1078 - accuracy: 0.0019 - val_loss: 0.7959 - val_accuracy: 0.0041\n",
      "Epoch 10/20\n",
      "11610/11610 [==============================] - 0s 42us/sample - loss: 1.3834 - accuracy: 0.0021 - val_loss: 0.8488 - val_accuracy: 0.0044\n",
      "Epoch 11/20\n",
      "11610/11610 [==============================] - 0s 41us/sample - loss: 0.8380 - accuracy: 0.0022 - val_loss: 0.8161 - val_accuracy: 0.0044\n",
      "Epoch 12/20\n",
      "11610/11610 [==============================] - 0s 36us/sample - loss: 0.7895 - accuracy: 0.0022 - val_loss: 0.7507 - val_accuracy: 0.0044\n",
      "Epoch 13/20\n",
      "11610/11610 [==============================] - 0s 37us/sample - loss: 1.1655 - accuracy: 0.0019 - val_loss: 0.8675 - val_accuracy: 0.0039\n",
      "Epoch 14/20\n",
      "11610/11610 [==============================] - 0s 38us/sample - loss: 1.8534 - accuracy: 0.0021 - val_loss: 0.6877 - val_accuracy: 0.0044\n",
      "Epoch 15/20\n",
      "11610/11610 [==============================] - 0s 39us/sample - loss: 1.7972 - accuracy: 0.0017 - val_loss: 0.7819 - val_accuracy: 0.0039\n",
      "Epoch 16/20\n",
      "11610/11610 [==============================] - 1s 43us/sample - loss: 1.4018 - accuracy: 0.0022 - val_loss: 0.8080 - val_accuracy: 0.0039\n",
      "Epoch 17/20\n",
      "11610/11610 [==============================] - 0s 42us/sample - loss: 1.1779 - accuracy: 0.0020 - val_loss: 0.7520 - val_accuracy: 0.0047\n",
      "Epoch 18/20\n",
      "11610/11610 [==============================] - 0s 40us/sample - loss: 2.8698 - accuracy: 0.0019 - val_loss: 2.3997 - val_accuracy: 0.0047\n",
      "Epoch 19/20\n",
      "11610/11610 [==============================] - 0s 38us/sample - loss: 4.1180 - accuracy: 0.0016 - val_loss: 3.3330 - val_accuracy: 0.0047\n",
      "Epoch 20/20\n",
      "11610/11610 [==============================] - 0s 38us/sample - loss: 622.0114 - accuracy: 0.0016 - val_loss: 1.2973 - val_accuracy: 0.0044\n"
     ]
    },
    {
     "data": {
      "text/plain": [
       "<tensorflow.python.keras.callbacks.History at 0x180fdad28c8>"
      ]
     },
     "execution_count": 23,
     "metadata": {},
     "output_type": "execute_result"
    }
   ],
   "source": [
    "#Functional API\n",
    "\n",
    "input_ = Input(shape = X_train.shape[1:])\n",
    "layer1 = Dense(30, activation = 'relu')(input_)\n",
    "layer2 = Dense(30, activation = 'relu')(layer1)\n",
    "concat = Concatenate()([input_, layer2])\n",
    "output = Dense(1)(concat)\n",
    "model = Model(inputs = [input_], outputs = [output])\n",
    "model.compile(optimizer = tf.keras.optimizers.Adam(lr = 1e-3),\n",
    "              loss = 'mse', metrics = ['accuracy'])\n",
    "\n",
    "model.fit(X_train, y_train, batch_size = 32, epochs = 20, validation_data = (X_val, y_val))"
   ]
  },
  {
   "cell_type": "code",
   "execution_count": 33,
   "metadata": {},
   "outputs": [],
   "source": [
    "#Could also combine into one subclass\n",
    "class NNReg:\n",
    "    def __init__(self, units = 30, activation = 'relu', **kwargs):\n",
    "        super().__init__(**kwargs) #Handles all standard args\n",
    "        self.hidden1 = Dense(units, activation = activation)\n",
    "        self.hidden2 = Dense(units, activation = activation)\n",
    "        self.output = Dense(1)\n",
    "        \n",
    "    def call(self, inputs):\n",
    "        input_ = inputs\n",
    "        hidden1 = self.hidden1(input_)\n",
    "        hidden2 = self.hidden2(hidden1)\n",
    "        concat = Concatenate([input_, hidden2])\n",
    "        output = self.output(concat)\n",
    "        return output\n",
    "    \n",
    "model = NNReg()"
   ]
  },
  {
   "cell_type": "code",
   "execution_count": null,
   "metadata": {},
   "outputs": [],
   "source": []
  }
 ],
 "metadata": {
  "kernelspec": {
   "display_name": "Python 3",
   "language": "python",
   "name": "python3"
  },
  "language_info": {
   "codemirror_mode": {
    "name": "ipython",
    "version": 3
   },
   "file_extension": ".py",
   "mimetype": "text/x-python",
   "name": "python",
   "nbconvert_exporter": "python",
   "pygments_lexer": "ipython3",
   "version": "3.7.6"
  }
 },
 "nbformat": 4,
 "nbformat_minor": 4
}
