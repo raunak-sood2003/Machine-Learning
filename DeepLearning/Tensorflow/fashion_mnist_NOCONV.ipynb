{
 "cells": [
  {
   "cell_type": "code",
   "execution_count": 15,
   "metadata": {},
   "outputs": [],
   "source": [
    "import tensorflow as tf\n",
    "import numpy as np\n",
    "from tensorflow.keras.datasets import fashion_mnist\n",
    "from tensorflow.keras.layers import Dense, Flatten\n",
    "from tensorflow.keras.models import Sequential\n",
    "from tensorflow.keras.callbacks import TensorBoard\n",
    "import matplotlib.pyplot as plt\n",
    "import pandas as pd\n",
    "import os"
   ]
  },
  {
   "cell_type": "code",
   "execution_count": 2,
   "metadata": {},
   "outputs": [],
   "source": [
    "(X_train_full, y_train_full), (X_test, y_test) = fashion_mnist.load_data()"
   ]
  },
  {
   "cell_type": "code",
   "execution_count": 3,
   "metadata": {},
   "outputs": [
    {
     "name": "stdout",
     "output_type": "stream",
     "text": [
      "Shape of X_train:  (60000, 28, 28)\n",
      "Shape of y_train:  (60000,)\n",
      "Shape of X_test:  (10000, 28, 28)\n",
      "Shape of y_test:  (10000,)\n"
     ]
    }
   ],
   "source": [
    "print(\"Shape of X_train: \", X_train_full.shape)\n",
    "print(\"Shape of y_train: \", y_train_full.shape)\n",
    "print(\"Shape of X_test: \", X_test.shape)\n",
    "print(\"Shape of y_test: \", y_test.shape)"
   ]
  },
  {
   "cell_type": "code",
   "execution_count": 4,
   "metadata": {},
   "outputs": [],
   "source": [
    "X_train_full = X_train_full.reshape(60000, 28, 28, 1)\n",
    "X_test = X_test.reshape(10000, 28, 28, 1)\n",
    "X_train_full = X_train_full.astype('float32')\n",
    "y_train_full = y_train_full.astype('float32')"
   ]
  },
  {
   "cell_type": "code",
   "execution_count": 6,
   "metadata": {},
   "outputs": [],
   "source": [
    "X_train, X_val = X_train_full[5000:], X_train_full[:5000]\n",
    "y_train, y_val = y_train_full[5000:], y_train_full[:5000]"
   ]
  },
  {
   "cell_type": "code",
   "execution_count": 17,
   "metadata": {},
   "outputs": [
    {
     "name": "stdout",
     "output_type": "stream",
     "text": [
      "Train on 55000 samples, validate on 5000 samples\n",
      "Epoch 1/5\n",
      "55000/55000 [==============================] - 2s 39us/sample - loss: 3.8465 - accuracy: 0.7558 - val_loss: 0.7438 - val_accuracy: 0.8044\n",
      "Epoch 2/5\n",
      "55000/55000 [==============================] - 2s 34us/sample - loss: 0.5990 - accuracy: 0.8137 - val_loss: 0.4941 - val_accuracy: 0.8414\n",
      "Epoch 3/5\n",
      "55000/55000 [==============================] - 2s 34us/sample - loss: 0.4613 - accuracy: 0.8400 - val_loss: 0.5278 - val_accuracy: 0.8260\n",
      "Epoch 4/5\n",
      "55000/55000 [==============================] - 2s 34us/sample - loss: 0.4234 - accuracy: 0.8491 - val_loss: 0.4498 - val_accuracy: 0.8408\n",
      "Epoch 5/5\n",
      "55000/55000 [==============================] - 2s 34us/sample - loss: 0.4049 - accuracy: 0.8559 - val_loss: 0.4618 - val_accuracy: 0.8456\n"
     ]
    }
   ],
   "source": [
    "root_logdir = os.path.join(os.curdir, \"my_logs\")\n",
    "def get_run_logdir():\n",
    "    import time\n",
    "    run_id = time.strftime(\"run_%Y_%m_%d-%H_%M_%S\")\n",
    "    return os.path.join(root_logdir, run_id)\n",
    "run_logdir = get_run_logdir()\n",
    "tensorboard = TensorBoard(run_logdir)\n",
    "model = Sequential()\n",
    "model.add(Flatten(input_shape = [28,28,1]))\n",
    "model.add(Dense(300, activation = tf.keras.activations.relu))\n",
    "model.add(Dense(100, activation = tf.keras.activations.relu))\n",
    "model.add(Dense(10, activation = tf.keras.activations.softmax))\n",
    "#Sparse_categorical_crossentropy = works best with data that is NOT one_hot_encoded\n",
    "model.compile(optimizer = tf.keras.optimizers.Adam(lr = .001), loss = tf.keras.losses.sparse_categorical_crossentropy,\n",
    "              metrics = ['accuracy']) \n",
    "history = model.fit(X_train, y_train, batch_size = 64, epochs = 5, validation_data = (X_val, y_val), callbacks = [tensorboard])"
   ]
  },
  {
   "cell_type": "code",
   "execution_count": 8,
   "metadata": {},
   "outputs": [
    {
     "data": {
      "text/plain": [
       "(0, 1)"
      ]
     },
     "execution_count": 8,
     "metadata": {},
     "output_type": "execute_result"
    },
    {
     "data": {
      "image/png": "[encoded data removed]",
      "text/plain": [
       "<Figure size 720x432 with 1 Axes>"
      ]
     },
     "metadata": {
      "needs_background": "light"
     },
     "output_type": "display_data"
    }
   ],
   "source": [
    "pd.DataFrame(history.history).plot(figsize= (10,6))\n",
    "plt.gca().set_ylim(0,1)"
   ]
  },
  {
   "cell_type": "code",
   "execution_count": 9,
   "metadata": {},
   "outputs": [
    {
     "name": "stdout",
     "output_type": "stream",
     "text": [
      "10000/10000 [==============================] - 0s 32us/sample - loss: 0.4638 - accuracy: 0.8435\n"
     ]
    }
   ],
   "source": [
    "hist_test = model.evaluate(X_test, y_test)"
   ]
  },
  {
   "cell_type": "code",
   "execution_count": 10,
   "metadata": {},
   "outputs": [
    {
     "data": {
      "text/plain": [
       "['Ankle Boot', 'Pullover', 'Trouser']"
      ]
     },
     "execution_count": 10,
     "metadata": {},
     "output_type": "execute_result"
    },
    {
     "data": {
      "image/png": "[encoded data removed]",
      "text/plain": [
       "<Figure size 432x288 with 1 Axes>"
      ]
     },
     "metadata": {
      "needs_background": "light"
     },
     "output_type": "display_data"
    }
   ],
   "source": [
    "X_new = X_test[:3]\n",
    "for img in X_new:\n",
    "    plt.imshow(img.reshape(28,28))\n",
    "preds = model.predict(X_new)\n",
    "class_names = [\"T-shirt\", \"Trouser\", \"Pullover\", \"Dress\", \"Coat\", \"Sandal\", \"Shirt\", \"Sneaker\", \"Bag\", \"Ankle Boot\"]\n",
    "p = []\n",
    "for pred in preds:\n",
    "    p.append(np.argmax(pred))\n",
    "for pred in p:\n",
    "    pred = class_names[pred]\n",
    "\n",
    "final = [class_names[i] for i in p]\n",
    "final"
   ]
  },
  {
   "cell_type": "code",
   "execution_count": null,
   "metadata": {},
   "outputs": [],
   "source": []
  }
 ],
 "metadata": {
  "kernelspec": {
   "display_name": "Python 3",
   "language": "python",
   "name": "python3"
  },
  "language_info": {
   "codemirror_mode": {
    "name": "ipython",
    "version": 3
   },
   "file_extension": ".py",
   "mimetype": "text/x-python",
   "name": "python",
   "nbconvert_exporter": "python",
   "pygments_lexer": "ipython3",
   "version": "3.7.6"
  }
 },
 "nbformat": 4,
 "nbformat_minor": 4
}
