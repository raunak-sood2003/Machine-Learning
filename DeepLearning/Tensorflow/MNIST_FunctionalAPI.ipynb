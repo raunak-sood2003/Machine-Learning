{
 "cells": [
  {
   "cell_type": "code",
   "execution_count": 2,
   "metadata": {},
   "outputs": [],
   "source": [
    "import tensorflow as tf\n",
    "import numpy as np\n",
    "from tensorflow.keras.datasets import mnist\n",
    "from tensorflow.keras.layers import Dense, Flatten, Input, Concatenate, Conv2D, Dropout, MaxPool2D, BatchNormalization\n",
    "from tensorflow.keras.models import Model\n",
    "from tensorflow.keras.utils import to_categorical\n",
    "import matplotlib.pyplot as plt\n",
    "import pandas as pd\n",
    "import os"
   ]
  },
  {
   "cell_type": "code",
   "execution_count": 3,
   "metadata": {},
   "outputs": [],
   "source": [
    "(X_train, y_train), (X_test, y_test) = mnist.load_data()"
   ]
  },
  {
   "cell_type": "code",
   "execution_count": 4,
   "metadata": {},
   "outputs": [
    {
     "data": {
      "text/plain": [
       "(60000, 28, 28, 1)"
      ]
     },
     "execution_count": 4,
     "metadata": {},
     "output_type": "execute_result"
    }
   ],
   "source": [
    "X_train = X_train/255\n",
    "X_test = X_test/255\n",
    "\n",
    "y_train = to_categorical(y_train)\n",
    "y_test = to_categorical(y_test)\n",
    "\n",
    "X_train = X_train.reshape(-1, 28, 28, 1)\n",
    "X_test = X_test.reshape(-1, 28, 28, 1)\n",
    "X_train.shape"
   ]
  },
  {
   "cell_type": "code",
   "execution_count": 19,
   "metadata": {},
   "outputs": [],
   "source": [
    "inputs = Input(shape = (28, 28, 1))\n",
    "\n",
    "X = Conv2D(128, kernel_size = (2,2), padding = 'same', strides = 1, \n",
    "           activation = 'relu', kernel_initializer = 'he_normal')(inputs)\n",
    "X = BatchNormalization()(X)\n",
    "X = MaxPool2D(pool_size = (2,2))(X)\n",
    "X = Dropout(0.2)(X)\n",
    "\n",
    "X = Conv2D(128, kernel_size = (2,2), padding = 'same', strides = 2, \n",
    "           activation = 'relu', kernel_initializer = 'he_normal')(X)\n",
    "X = BatchNormalization()(X)\n",
    "X = MaxPool2D(pool_size = (2,2))(X)\n",
    "X = Dropout(0.2)(X)\n",
    "\n",
    "X = Flatten()(X)\n",
    "\n",
    "X = Dense(64, activation = 'relu', kernel_initializer = 'he_normal')(X)\n",
    "X = BatchNormalization()(X)\n",
    "X = Dense(10, activation = 'softmax')(X)\n",
    "\n",
    "model = Model(inputs = inputs, outputs = X)"
   ]
  },
  {
   "cell_type": "code",
   "execution_count": 29,
   "metadata": {},
   "outputs": [],
   "source": [
    "opt1 = tf.keras.optimizers.Adam(lr = 2e-3, decay = 1e-5)\n",
    "opt2 = tf.keras.optimizers.SGD(lr = 2e-3, momentum = 0.9, nesterov = True)\n",
    "opt3 = tf.keras.optimizers.RMSprop(lr = 2e-3)\n",
    "\n",
    "model.compile(optimizer = opt1, loss = 'categorical_crossentropy', metrics = ['accuracy'])"
   ]
  },
  {
   "cell_type": "code",
   "execution_count": 21,
   "metadata": {},
   "outputs": [
    {
     "name": "stdout",
     "output_type": "stream",
     "text": [
      "Train on 48000 samples, validate on 12000 samples\n",
      "Epoch 1/5\n",
      "48000/48000 [==============================] - 91s 2ms/sample - loss: 0.2233 - accuracy: 0.9302 - val_loss: 0.0909 - val_accuracy: 0.9700\n",
      "Epoch 2/5\n",
      "48000/48000 [==============================] - 93s 2ms/sample - loss: 0.1105 - accuracy: 0.9650 - val_loss: 0.0689 - val_accuracy: 0.9783\n",
      "Epoch 3/5\n",
      "48000/48000 [==============================] - 94s 2ms/sample - loss: 0.0859 - accuracy: 0.9720 - val_loss: 0.0638 - val_accuracy: 0.9808\n",
      "Epoch 4/5\n",
      "48000/48000 [==============================] - 94s 2ms/sample - loss: 0.0716 - accuracy: 0.9761 - val_loss: 0.0621 - val_accuracy: 0.9794\n",
      "Epoch 5/5\n",
      "48000/48000 [==============================] - 95s 2ms/sample - loss: 0.0631 - accuracy: 0.9791 - val_loss: 0.0530 - val_accuracy: 0.9837\n"
     ]
    }
   ],
   "source": [
    "history = model.fit(X_train, y_train, epochs = 5, batch_size = 32, validation_split = 0.2)"
   ]
  },
  {
   "cell_type": "code",
   "execution_count": 22,
   "metadata": {},
   "outputs": [],
   "source": [
    "model.save(\"mnist_functional_API.h5\")"
   ]
  },
  {
   "cell_type": "code",
   "execution_count": 23,
   "metadata": {},
   "outputs": [
    {
     "data": {
      "text/plain": [
       "<matplotlib.axes._subplots.AxesSubplot at 0x26f8c910208>"
      ]
     },
     "execution_count": 23,
     "metadata": {},
     "output_type": "execute_result"
    },
    {
     "data": {
      "image/png": "[encoded data removed]",
      "text/plain": [
       "<Figure size 432x288 with 1 Axes>"
      ]
     },
     "metadata": {
      "needs_background": "light"
     },
     "output_type": "display_data"
    }
   ],
   "source": [
    "pd.DataFrame(history.history).plot()"
   ]
  },
  {
   "cell_type": "code",
   "execution_count": 24,
   "metadata": {},
   "outputs": [],
   "source": [
    "preds = model.predict(X_test)"
   ]
  },
  {
   "cell_type": "code",
   "execution_count": 27,
   "metadata": {},
   "outputs": [
    {
     "name": "stdout",
     "output_type": "stream",
     "text": [
      "4\n"
     ]
    },
    {
     "data": {
      "image/png": "[encoded data removed]",
      "text/plain": [
       "<Figure size 432x288 with 1 Axes>"
      ]
     },
     "metadata": {
      "needs_background": "light"
     },
     "output_type": "display_data"
    }
   ],
   "source": [
    "def predict(n): \n",
    "    plt.imshow(X_test[n].reshape(28,28))\n",
    "    print(np.argmax(preds[n]))\n",
    "\n",
    "predict(9997)"
   ]
  }
 ],
 "metadata": {
  "kernelspec": {
   "display_name": "Python 3",
   "language": "python",
   "name": "python3"
  },
  "language_info": {
   "codemirror_mode": {
    "name": "ipython",
    "version": 3
   },
   "file_extension": ".py",
   "mimetype": "text/x-python",
   "name": "python",
   "nbconvert_exporter": "python",
   "pygments_lexer": "ipython3",
   "version": "3.7.6"
  }
 },
 "nbformat": 4,
 "nbformat_minor": 4
}
