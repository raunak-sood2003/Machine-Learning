{
 "cells": [
  {
   "cell_type": "code",
   "execution_count": null,
   "metadata": {},
   "outputs": [],
   "source": [
    "#MNIST fashion model"
   ]
  },
  {
   "cell_type": "code",
   "execution_count": 1,
   "metadata": {},
   "outputs": [],
   "source": [
    "#Imports\n",
    "import tensorflow as tf\n",
    "from tensorflow.keras.datasets import fashion_mnist\n",
    "from tensorflow.keras.models import Sequential\n",
    "from tensorflow.keras.layers import Dense, Conv2D, Flatten, AveragePooling2D, BatchNormalization\n",
    "import numpy as np\n",
    "import matplotlib.pyplot as plt"
   ]
  },
  {
   "cell_type": "code",
   "execution_count": 2,
   "metadata": {},
   "outputs": [
    {
     "name": "stdout",
     "output_type": "stream",
     "text": [
      "Downloading data from https://storage.googleapis.com/tensorflow/tf-keras-datasets/train-labels-idx1-ubyte.gz\n",
      "32768/29515 [=================================] - 0s 1us/step\n",
      "Downloading data from https://storage.googleapis.com/tensorflow/tf-keras-datasets/train-images-idx3-ubyte.gz\n",
      "26427392/26421880 [==============================] - 4s 0us/step\n",
      "Downloading data from https://storage.googleapis.com/tensorflow/tf-keras-datasets/t10k-labels-idx1-ubyte.gz\n",
      "8192/5148 [===============================================] - 0s 0us/step\n",
      "Downloading data from https://storage.googleapis.com/tensorflow/tf-keras-datasets/t10k-images-idx3-ubyte.gz\n",
      "4423680/4422102 [==============================] - 1s 0us/step\n"
     ]
    }
   ],
   "source": [
    "#Dataset\n",
    "dataset = fashion_mnist.load_data()\n",
    "(X_train, y_train), (X_test, y_test) = dataset\n",
    "X_train = X_train.reshape(60000, 28,28,1)\n",
    "X_test = X_test.reshape(10000, 28,28,1)"
   ]
  },
  {
   "cell_type": "code",
   "execution_count": 3,
   "metadata": {},
   "outputs": [
    {
     "name": "stdout",
     "output_type": "stream",
     "text": [
      "Train on 60000 samples\n",
      "Epoch 1/3\n",
      "60000/60000 [==============================] - 30s 495us/sample - loss: 0.4220 - accuracy: 0.8505\n",
      "Epoch 2/3\n",
      "60000/60000 [==============================] - 30s 506us/sample - loss: 0.3015 - accuracy: 0.8913\n",
      "Epoch 3/3\n",
      "60000/60000 [==============================] - 30s 508us/sample - loss: 0.2732 - accuracy: 0.9021\n"
     ]
    },
    {
     "data": {
      "text/plain": [
       "<tensorflow.python.keras.callbacks.History at 0x256110f4588>"
      ]
     },
     "execution_count": 3,
     "metadata": {},
     "output_type": "execute_result"
    }
   ],
   "source": [
    "#Model\n",
    "model = Sequential()\n",
    "model.add(Conv2D(64, input_shape = (28,28,1), kernel_size = 2, activation = 'relu'))\n",
    "model.add(AveragePooling2D(pool_size = 2))\n",
    "model.add(BatchNormalization())\n",
    "model.add(Conv2D(32, input_shape = (14,14,1), kernel_size = 2, activation = 'relu'))\n",
    "model.add(AveragePooling2D(pool_size = 2))\n",
    "model.add(Conv2D(16, input_shape = (7,7,1), kernel_size = 2, activation = 'relu'))\n",
    "model.add(BatchNormalization())\n",
    "model.add(Flatten())\n",
    "model.add(Dense(10, activation = 'softmax'))\n",
    "model.compile(optimizer = 'adam', loss = 'sparse_categorical_crossentropy', metrics = ['accuracy'])\n",
    "model.fit(X_train, y_train, epochs = 3)"
   ]
  },
  {
   "cell_type": "code",
   "execution_count": 4,
   "metadata": {},
   "outputs": [
    {
     "name": "stdout",
     "output_type": "stream",
     "text": [
      "Train on 60000 samples\n",
      "Epoch 1/3\n",
      "60000/60000 [==============================] - 30s 499us/sample - loss: 0.2581 - accuracy: 0.9059\n",
      "Epoch 2/3\n",
      "60000/60000 [==============================] - 30s 502us/sample - loss: 0.2455 - accuracy: 0.9105- loss: 0.2419 - accuracy: 0. - ETA: 8s - loss: 0 - ETA: 3s - loss: 0.2443 - accuracy: 0. - ETA: 3s - loss: 0.2442 - accu - ETA: 2s - loss: 0.2445 - accuracy: 0. - ETA: 2s - loss: 0.2444 - accuracy - ETA\n",
      "Epoch 3/3\n",
      "60000/60000 [==============================] - 30s 500us/sample - loss: 0.2342 - accuracy: 0.9156- loss: 0.2331 - accura - ETA: 4s - loss: 0.2332 - accu - ETA:  - ETA: 3s - loss: 0.2331 - accuracy: 0.91 - ETA: 3s - loss: 0.2331 - accuracy: 0.91 - ETA: 3s - loss: 0.2330 - accuracy: 0. - - ETA: 1s - loss: - ETA: 1s - los - ETA: 0s - loss: 0.2342 - accura\n"
     ]
    }
   ],
   "source": [
    "history = model.fit(X_train, y_train, epochs = 3)"
   ]
  },
  {
   "cell_type": "code",
   "execution_count": 8,
   "metadata": {},
   "outputs": [
    {
     "data": {
      "image/png": "[encoded data removed]",
      "text/plain": [
       "<Figure size 432x288 with 1 Axes>"
      ]
     },
     "metadata": {
      "needs_background": "light"
     },
     "output_type": "display_data"
    }
   ],
   "source": [
    "plt.plot(history.history['loss'])\n",
    "plt.xlabel('Epochs')\n",
    "plt.ylabel('Loss')\n",
    "plt.title('Model Loss')\n",
    "plt.show()"
   ]
  },
  {
   "cell_type": "code",
   "execution_count": null,
   "metadata": {},
   "outputs": [],
   "source": []
  }
 ],
 "metadata": {
  "kernelspec": {
   "display_name": "Python 3",
   "language": "python",
   "name": "python3"
  },
  "language_info": {
   "codemirror_mode": {
    "name": "ipython",
    "version": 3
   },
   "file_extension": ".py",
   "mimetype": "text/x-python",
   "name": "python",
   "nbconvert_exporter": "python",
   "pygments_lexer": "ipython3",
   "version": "3.7.6"
  }
 },
 "nbformat": 4,
 "nbformat_minor": 2
}
