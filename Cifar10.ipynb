{
 "cells": [
  {
   "cell_type": "code",
   "execution_count": 1,
   "metadata": {},
   "outputs": [
    {
     "name": "stderr",
     "output_type": "stream",
     "text": [
      "C:\\Users\\rrsoo\\Anaconda3\\lib\\site-packages\\h5py\\__init__.py:36: FutureWarning: Conversion of the second argument of issubdtype from `float` to `np.floating` is deprecated. In future, it will be treated as `np.float64 == np.dtype(float).type`.\n",
      "  from ._conv import register_converters as _register_converters\n"
     ]
    }
   ],
   "source": [
    "#Imports\n",
    "from tensorflow.keras.datasets import cifar10\n",
    "from tensorflow.keras.layers import Dense, Conv2D, Flatten\n",
    "from tensorflow.keras.models import Sequential\n",
    "from tensorflow.keras.utils import to_categorical\n",
    "import matplotlib.pyplot as plt\n",
    "import numpy as np"
   ]
  },
  {
   "cell_type": "code",
   "execution_count": 2,
   "metadata": {},
   "outputs": [],
   "source": [
    "#Loading data\n",
    "(X_train, y_train), (X_test, y_test) = cifar10.load_data()"
   ]
  },
  {
   "cell_type": "code",
   "execution_count": 3,
   "metadata": {},
   "outputs": [
    {
     "data": {
      "text/plain": [
       "(50000, 32, 32, 3)"
      ]
     },
     "execution_count": 3,
     "metadata": {},
     "output_type": "execute_result"
    }
   ],
   "source": [
    "X_train.shape"
   ]
  },
  {
   "cell_type": "code",
   "execution_count": 4,
   "metadata": {},
   "outputs": [
    {
     "data": {
      "text/plain": [
       "(10000, 32, 32, 3)"
      ]
     },
     "execution_count": 4,
     "metadata": {},
     "output_type": "execute_result"
    }
   ],
   "source": [
    "X_test.shape"
   ]
  },
  {
   "cell_type": "code",
   "execution_count": 5,
   "metadata": {},
   "outputs": [],
   "source": [
    "#Normalization\n",
    "X_train = X_train.astype('float32')\n",
    "X_test = X_test.astype('float32')\n",
    "mean_train = np.mean(X_train, axis = (0,1,2,3))\n",
    "std_train = np.std(X_train, axis = (0,1,2,3))\n",
    "mean_test = np.mean(X_test, axis = (0,1,2,3))\n",
    "std_test = np.std(X_test, axis = (0,1,2,3))\n",
    "X_train = (X_train-mean_train)/(std_train)\n",
    "X_test = (X_test - mean_test)/(std_test)"
   ]
  },
  {
   "cell_type": "code",
   "execution_count": 6,
   "metadata": {},
   "outputs": [
    {
     "name": "stdout",
     "output_type": "stream",
     "text": [
      "Epoch 1/5\n",
      "50000/50000 [==============================] - 15s 306us/step - loss: 1.7812 - acc: 0.3801\n",
      "Epoch 2/5\n",
      "50000/50000 [==============================] - 15s 292us/step - loss: 1.5463 - acc: 0.4542\n",
      "Epoch 3/5\n",
      "50000/50000 [==============================] - 13s 256us/step - loss: 1.4551 - acc: 0.4897\n",
      "Epoch 4/5\n",
      "50000/50000 [==============================] - 13s 250us/step - loss: 1.3972 - acc: 0.5068\n",
      "Epoch 5/5\n",
      "50000/50000 [==============================] - 14s 275us/step - loss: 1.3490 - acc: 0.5243\n"
     ]
    },
    {
     "data": {
      "text/plain": [
       "<tensorflow.python.keras.callbacks.History at 0x1ccbfe55a90>"
      ]
     },
     "execution_count": 6,
     "metadata": {},
     "output_type": "execute_result"
    }
   ],
   "source": [
    "model = Sequential()\n",
    "model.add(Flatten())\n",
    "model.add(Dense(64, activation = 'relu'))\n",
    "model.add(Dense(64, activation = 'relu'))\n",
    "model.add(Dense(32, activation = 'softmax'))\n",
    "model.compile(optimizer = 'adam', loss = 'sparse_categorical_crossentropy', metrics = ['accuracy'])\n",
    "model.fit(X_train, y_train, epochs = 5)"
   ]
  },
  {
   "cell_type": "code",
   "execution_count": 7,
   "metadata": {},
   "outputs": [
    {
     "name": "stderr",
     "output_type": "stream",
     "text": [
      "Clipping input data to the valid range for imshow with RGB data ([0..1] for floats or [0..255] for integers).\n"
     ]
    },
    {
     "data": {
      "text/plain": [
       "array([6.5678321e-02, 5.1003490e-03, 1.8606950e-01, 4.4560894e-01,\n",
       "       6.3178644e-02, 1.3644485e-01, 7.0488490e-02, 6.7635500e-03,\n",
       "       2.0252854e-02, 4.1452987e-04, 8.0959106e-13, 1.9632075e-11,\n",
       "       2.6122792e-13, 6.2160494e-12, 2.3133726e-12, 2.6747507e-11,\n",
       "       1.8373950e-11, 6.9778997e-13, 7.0486314e-14, 1.5555291e-12,\n",
       "       2.0821536e-10, 1.6091085e-13, 3.0676125e-14, 1.4161939e-11,\n",
       "       1.2819171e-13, 2.7226754e-12, 1.4982951e-10, 1.5996553e-10,\n",
       "       1.8000781e-10, 4.9904412e-12, 3.0989293e-13, 3.8945572e-13],\n",
       "      dtype=float32)"
      ]
     },
     "execution_count": 7,
     "metadata": {},
     "output_type": "execute_result"
    },
    {
     "data": {
      "image/png": "[encoded data removed]",
      "text/plain": [
       "<Figure size 432x288 with 1 Axes>"
      ]
     },
     "metadata": {},
     "output_type": "display_data"
    }
   ],
   "source": [
    "n = 0\n",
    "predict = model.predict(X_test)\n",
    "plt.imshow(X_test[n])\n",
    "predict[n]"
   ]
  }
 ],
 "metadata": {
  "kernelspec": {
   "display_name": "Python 3",
   "language": "python",
   "name": "python3"
  },
  "language_info": {
   "codemirror_mode": {
    "name": "ipython",
    "version": 3
   },
   "file_extension": ".py",
   "mimetype": "text/x-python",
   "name": "python",
   "nbconvert_exporter": "python",
   "pygments_lexer": "ipython3",
   "version": "3.6.5"
  }
 },
 "nbformat": 4,
 "nbformat_minor": 2
}
